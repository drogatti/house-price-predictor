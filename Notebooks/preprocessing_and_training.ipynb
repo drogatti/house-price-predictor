{
 "cells": [
  {
   "cell_type": "markdown",
   "id": "b255478e-da41-4069-8aca-a2f32080803d",
   "metadata": {},
   "source": [
    "### Import Modules"
   ]
  },
  {
   "cell_type": "code",
   "execution_count": 1,
   "id": "ef497ca4-d891-4753-822c-8be37a264423",
   "metadata": {},
   "outputs": [],
   "source": [
    "import pandas as pd\n",
    "import numpy as np\n",
    "import os\n",
    "import pickle\n",
    "import matplotlib.pyplot as plt\n",
    "import seaborn as sns\n",
    "from sklearn import __version__ as sklearn_version\n",
    "from sklearn.decomposition import PCA\n",
    "from sklearn.preprocessing import scale\n",
    "from sklearn.model_selection import train_test_split, cross_validate, GridSearchCV, learning_curve, cross_val_score\n",
    "from sklearn.preprocessing import StandardScaler, MinMaxScaler\n",
    "from sklearn.dummy import DummyRegressor\n",
    "from sklearn.linear_model import LinearRegression, Ridge, Lasso\n",
    "from sklearn.ensemble import RandomForestRegressor\n",
    "from sklearn.metrics import r2_score, mean_squared_error, mean_absolute_error\n",
    "from sklearn.pipeline import make_pipeline\n",
    "from sklearn.impute import SimpleImputer\n",
    "from sklearn.feature_selection import SelectKBest, f_regression, VarianceThreshold\n",
    "import datetime\n",
    "import joblib\n",
    "import xgboost as xgb"
   ]
  },
  {
   "cell_type": "markdown",
   "id": "3cd5c88b-ec5d-494b-9b34-36bfc9101317",
   "metadata": {},
   "source": [
    "### Load Data"
   ]
  },
  {
   "cell_type": "code",
   "execution_count": 2,
   "id": "162fd17f-fbd9-4c42-96b2-2cac169b7271",
   "metadata": {},
   "outputs": [
    {
     "data": {
      "text/html": [
       "<div>\n",
       "<style scoped>\n",
       "    .dataframe tbody tr th:only-of-type {\n",
       "        vertical-align: middle;\n",
       "    }\n",
       "\n",
       "    .dataframe tbody tr th {\n",
       "        vertical-align: top;\n",
       "    }\n",
       "\n",
       "    .dataframe thead th {\n",
       "        text-align: right;\n",
       "    }\n",
       "</style>\n",
       "<table border=\"1\" class=\"dataframe\">\n",
       "  <thead>\n",
       "    <tr style=\"text-align: right;\">\n",
       "      <th></th>\n",
       "      <th>0</th>\n",
       "      <th>1</th>\n",
       "      <th>2</th>\n",
       "      <th>3</th>\n",
       "      <th>4</th>\n",
       "    </tr>\n",
       "  </thead>\n",
       "  <tbody>\n",
       "    <tr>\n",
       "      <th>Id</th>\n",
       "      <td>1</td>\n",
       "      <td>2</td>\n",
       "      <td>3</td>\n",
       "      <td>4</td>\n",
       "      <td>5</td>\n",
       "    </tr>\n",
       "    <tr>\n",
       "      <th>MSSubClass</th>\n",
       "      <td>60</td>\n",
       "      <td>20</td>\n",
       "      <td>60</td>\n",
       "      <td>70</td>\n",
       "      <td>60</td>\n",
       "    </tr>\n",
       "    <tr>\n",
       "      <th>MSZoning</th>\n",
       "      <td>RL</td>\n",
       "      <td>RL</td>\n",
       "      <td>RL</td>\n",
       "      <td>RL</td>\n",
       "      <td>RL</td>\n",
       "    </tr>\n",
       "    <tr>\n",
       "      <th>LotFrontage</th>\n",
       "      <td>65.0</td>\n",
       "      <td>80.0</td>\n",
       "      <td>68.0</td>\n",
       "      <td>60.0</td>\n",
       "      <td>84.0</td>\n",
       "    </tr>\n",
       "    <tr>\n",
       "      <th>LotArea</th>\n",
       "      <td>8450</td>\n",
       "      <td>9600</td>\n",
       "      <td>11250</td>\n",
       "      <td>9550</td>\n",
       "      <td>14260</td>\n",
       "    </tr>\n",
       "    <tr>\n",
       "      <th>...</th>\n",
       "      <td>...</td>\n",
       "      <td>...</td>\n",
       "      <td>...</td>\n",
       "      <td>...</td>\n",
       "      <td>...</td>\n",
       "    </tr>\n",
       "    <tr>\n",
       "      <th>TotalGarageSize</th>\n",
       "      <td>550</td>\n",
       "      <td>462</td>\n",
       "      <td>610</td>\n",
       "      <td>645</td>\n",
       "      <td>839</td>\n",
       "    </tr>\n",
       "    <tr>\n",
       "      <th>OverallGrade</th>\n",
       "      <td>14021</td>\n",
       "      <td>11856</td>\n",
       "      <td>14007</td>\n",
       "      <td>13405</td>\n",
       "      <td>16000</td>\n",
       "    </tr>\n",
       "    <tr>\n",
       "      <th>BathsPerBed</th>\n",
       "      <td>0.833333</td>\n",
       "      <td>0.666667</td>\n",
       "      <td>0.833333</td>\n",
       "      <td>0.333333</td>\n",
       "      <td>0.625</td>\n",
       "    </tr>\n",
       "    <tr>\n",
       "      <th>LotFrontageToLotArea</th>\n",
       "      <td>0.007692</td>\n",
       "      <td>0.008333</td>\n",
       "      <td>0.006044</td>\n",
       "      <td>0.006283</td>\n",
       "      <td>0.005891</td>\n",
       "    </tr>\n",
       "    <tr>\n",
       "      <th>NeighborhoodMedianPrice</th>\n",
       "      <td>197200.0</td>\n",
       "      <td>218000.0</td>\n",
       "      <td>197200.0</td>\n",
       "      <td>200624.0</td>\n",
       "      <td>301500.0</td>\n",
       "    </tr>\n",
       "  </tbody>\n",
       "</table>\n",
       "<p>89 rows × 5 columns</p>\n",
       "</div>"
      ],
      "text/plain": [
       "                                0         1         2         3         4\n",
       "Id                              1         2         3         4         5\n",
       "MSSubClass                     60        20        60        70        60\n",
       "MSZoning                       RL        RL        RL        RL        RL\n",
       "LotFrontage                  65.0      80.0      68.0      60.0      84.0\n",
       "LotArea                      8450      9600     11250      9550     14260\n",
       "...                           ...       ...       ...       ...       ...\n",
       "TotalGarageSize               550       462       610       645       839\n",
       "OverallGrade                14021     11856     14007     13405     16000\n",
       "BathsPerBed              0.833333  0.666667  0.833333  0.333333     0.625\n",
       "LotFrontageToLotArea     0.007692  0.008333  0.006044  0.006283  0.005891\n",
       "NeighborhoodMedianPrice  197200.0  218000.0  197200.0  200624.0  301500.0\n",
       "\n",
       "[89 rows x 5 columns]"
      ]
     },
     "execution_count": 2,
     "metadata": {},
     "output_type": "execute_result"
    }
   ],
   "source": [
    "train_data = pd.read_csv('../data/train_data_step3_features.csv')\n",
    "train_data.head().T"
   ]
  },
  {
   "cell_type": "code",
   "execution_count": 3,
   "id": "8d01c579-be3b-4d6f-a3a8-cba3882be676",
   "metadata": {},
   "outputs": [
    {
     "name": "stdout",
     "output_type": "stream",
     "text": [
      "   Id  MSSubClass  LotFrontage  LotArea  OverallQual  OverallCond  YearBuilt  \\\n",
      "0   1          60         65.0     8450            7            5       2003   \n",
      "1   2          20         80.0     9600            6            8       1976   \n",
      "2   3          60         68.0    11250            7            5       2001   \n",
      "3   4          70         60.0     9550            7            5       1915   \n",
      "4   5          60         84.0    14260            8            5       2000   \n",
      "\n",
      "   YearRemodAdd  MasVnrArea  ExterQual  ...  Electrical_Mix  Electrical_SBrkr  \\\n",
      "0          2003       196.0          4  ...               0                 1   \n",
      "1          1976         0.0          3  ...               0                 1   \n",
      "2          2002       162.0          4  ...               0                 1   \n",
      "3          1970         0.0          3  ...               0                 1   \n",
      "4          2000       350.0          4  ...               0                 1   \n",
      "\n",
      "   Condition1_Feedr  Condition1_Norm  Condition1_PosA  Condition1_PosN  \\\n",
      "0                 0                1                0                0   \n",
      "1                 1                0                0                0   \n",
      "2                 0                1                0                0   \n",
      "3                 0                1                0                0   \n",
      "4                 0                1                0                0   \n",
      "\n",
      "   Condition1_RRAe  Condition1_RRAn  Condition1_RRNe  Condition1_RRNn  \n",
      "0                0                0                0                0  \n",
      "1                0                0                0                0  \n",
      "2                0                0                0                0  \n",
      "3                0                0                0                0  \n",
      "4                0                0                0                0  \n",
      "\n",
      "[5 rows x 211 columns]\n"
     ]
    },
    {
     "name": "stderr",
     "output_type": "stream",
     "text": [
      "C:\\Users\\aless\\AppData\\Local\\Temp\\ipykernel_14288\\3956831161.py:24: FutureWarning: DataFrame.applymap has been deprecated. Use DataFrame.map instead.\n",
      "  train_data = train_data.applymap(lambda x: 1 if x is True else (0 if x is False else x))\n"
     ]
    }
   ],
   "source": [
    "#encoding categorical variables\n",
    "categorical_cols = train_data.select_dtypes(include=['object']).columns\n",
    "\n",
    "#ordinal encoding\n",
    "ordinal_cols = ['ExterQual', 'ExterCond', 'BsmtQual', 'BsmtCond', 'HeatingQC', \n",
    "                'KitchenQual', 'FireplaceQu', 'GarageQual', 'GarageCond', \n",
    "                'BsmtExposure', 'BsmtFinType1', 'BsmtFinType2', \n",
    "                'Functional', 'GarageFinish', 'Fence']\n",
    "\n",
    "#define mapping for ordinal columns\n",
    "quality_mapping = {'Ex': 5, 'Gd': 4, 'TA': 3, 'Fa': 2, 'Po': 1, 'None': 0}\n",
    "\n",
    "#apply mapping\n",
    "for col in ordinal_cols :\n",
    "    train_data[col] = train_data[col].map(quality_mapping)\n",
    "\n",
    "#one-hot encoding for nominal\n",
    "nominal_cols = list(set(categorical_cols) - set(ordinal_cols))\n",
    "\n",
    "#apply encoding\n",
    "train_data = pd.get_dummies(train_data, columns=nominal_cols, drop_first=True)\n",
    "\n",
    "#convert boolean columns to integers 1/0\n",
    "train_data = train_data.applymap(lambda x: 1 if x is True else (0 if x is False else x))\n",
    "print(train_data.head())"
   ]
  },
  {
   "cell_type": "markdown",
   "id": "ab4f54de-0440-48ed-b86f-a67ff170909c",
   "metadata": {},
   "source": [
    "### Feature Scaling"
   ]
  },
  {
   "cell_type": "code",
   "execution_count": 4,
   "id": "754945f3-b226-499e-9be4-1869f5cb1607",
   "metadata": {},
   "outputs": [
    {
     "name": "stdout",
     "output_type": "stream",
     "text": [
      "   GrLivArea  TotalBsmtSF  1stFlrSF   TotalSF  HouseAge  TotalPorchSF  \\\n",
      "0   0.415310    -0.474485 -0.820365  0.028119 -1.048102     -0.244020   \n",
      "1  -0.490601     0.537871  0.295435 -0.028210 -0.188253     -0.827353   \n",
      "2   0.568992    -0.314902 -0.644475  0.215882 -0.981959     -0.425714   \n",
      "3   0.429465    -0.723834 -0.531796 -0.096609  1.796014      2.108437   \n",
      "4   1.402106     0.246133 -0.026113  1.070203 -0.948888     -0.024075   \n",
      "\n",
      "   OverallQualCond  LotFrontage  \n",
      "0         0.131551    -0.217074  \n",
      "1         1.549050     0.500852  \n",
      "2         0.131551    -0.073489  \n",
      "3         0.131551    -0.456383  \n",
      "4         0.676743     0.692299  \n"
     ]
    }
   ],
   "source": [
    "#select numerical features for scaling\n",
    "numerical_features = ['GrLivArea', 'TotalBsmtSF', '1stFlrSF', 'TotalSF', 'HouseAge', 'TotalPorchSF', 'OverallQualCond', 'LotFrontage']\n",
    "\n",
    "#going with standardization rather than normalization\n",
    "scaler = StandardScaler()\n",
    "train_data[numerical_features] = scaler.fit_transform(train_data[numerical_features])\n",
    "print(train_data[numerical_features].head())"
   ]
  },
  {
   "cell_type": "markdown",
   "id": "aea4bca7-00f8-4853-96d4-ef965410fd6f",
   "metadata": {},
   "source": [
    "### Feature Selection"
   ]
  },
  {
   "cell_type": "code",
   "execution_count": 5,
   "id": "d6162bc2-df3b-4c87-9ad9-9f08dfad1166",
   "metadata": {},
   "outputs": [
    {
     "name": "stdout",
     "output_type": "stream",
     "text": [
      "SalePrice                  1.000000\n",
      "TotalSF                    0.822249\n",
      "OverallGrade               0.806055\n",
      "OverallQual                0.800173\n",
      "TotalFinishedSF            0.741144\n",
      "NeighborhoodMedianPrice    0.738466\n",
      "GrLivArea                  0.719255\n",
      "ExterQual                  0.692888\n",
      "KitchenQual                0.666033\n",
      "BsmtQual                   0.651360\n",
      "GarageCars                 0.650858\n",
      "TotalGarageSize            0.640573\n",
      "GarageArea                 0.640282\n",
      "TotalBsmtSF                0.638785\n",
      "1stFlrSF                   0.617287\n",
      "Name: SalePrice, dtype: float64\n"
     ]
    }
   ],
   "source": [
    "#correlation analysis with SalePrice\n",
    "corr_matrix = train_data.corr()\n",
    "corr_target = corr_matrix['SalePrice'].sort_values(ascending=False)\n",
    "print(corr_target.head(15))"
   ]
  },
  {
   "cell_type": "code",
   "execution_count": 6,
   "id": "e67b0f68-1308-4cef-8689-0f878d3069c0",
   "metadata": {},
   "outputs": [
    {
     "name": "stdout",
     "output_type": "stream",
     "text": [
      "   SalePrice   TotalSF  OverallGrade  OverallQual  TotalFinishedSF  \\\n",
      "0     208500  0.028119         14021            7             2416   \n",
      "1     181500 -0.028210         11856            6             2240   \n",
      "2     223500  0.215882         14007            7             2272   \n",
      "3     140000 -0.096609         13405            7             1933   \n",
      "4     250000  1.070203         16000            8             2853   \n",
      "\n",
      "   NeighborhoodMedianPrice  GrLivArea  ExterQual  KitchenQual  BsmtQual  ...  \\\n",
      "0                 197200.0   0.415310          4            4       4.0  ...   \n",
      "1                 218000.0  -0.490601          3            3       4.0  ...   \n",
      "2                 197200.0   0.568992          4            4       4.0  ...   \n",
      "3                 200624.0   0.429465          3            4       3.0  ...   \n",
      "4                 301500.0   1.402106          4            4       4.0  ...   \n",
      "\n",
      "   MasVnrType_BrkFace  LotFrontageToLotArea  RoofStyle_Gable  SaleType_WD  \\\n",
      "0                   1              0.007692                1            1   \n",
      "1                   0              0.008333                1            1   \n",
      "2                   1              0.006044                1            1   \n",
      "3                   0              0.006283                1            1   \n",
      "4                   1              0.005891                1            1   \n",
      "\n",
      "   LotShape_Reg  MSZoning_RM  Foundation_CBlock  GarageType_Detchd  \\\n",
      "0             1            0                  0                  0   \n",
      "1             1            0                  1                  0   \n",
      "2             0            0                  0                  0   \n",
      "3             0            0                  0                  1   \n",
      "4             0            0                  0                  0   \n",
      "\n",
      "   RemodelAge  HouseAge  \n",
      "0           5 -1.048102  \n",
      "1          31 -0.188253  \n",
      "2           6 -0.981959  \n",
      "3          36  1.796014  \n",
      "4           8 -0.948888  \n",
      "\n",
      "[5 rows x 62 columns]\n"
     ]
    }
   ],
   "source": [
    "#remove low-correlation features (0.2 and below)\n",
    "thresh = 0.2\n",
    "\n",
    "#select features with correlation higher than 0.2 and drop others\n",
    "selected_features = corr_target[abs(corr_target) > thresh].index\n",
    "train_data_selected = train_data[selected_features]\n",
    "print(train_data_selected.head())"
   ]
  },
  {
   "cell_type": "code",
   "execution_count": 7,
   "id": "705772d8-b394-49a1-ae84-a7472ebfa90b",
   "metadata": {},
   "outputs": [
    {
     "name": "stderr",
     "output_type": "stream",
     "text": [
      "C:\\Users\\aless\\AppData\\Local\\Temp\\ipykernel_14288\\942336902.py:2: SettingWithCopyWarning: \n",
      "A value is trying to be set on a copy of a slice from a DataFrame\n",
      "\n",
      "See the caveats in the documentation: https://pandas.pydata.org/pandas-docs/stable/user_guide/indexing.html#returning-a-view-versus-a-copy\n",
      "  train_data_selected.replace([np.inf, -np.inf], np.nan, inplace=True)\n",
      "C:\\Users\\aless\\AppData\\Local\\Temp\\ipykernel_14288\\942336902.py:3: SettingWithCopyWarning: \n",
      "A value is trying to be set on a copy of a slice from a DataFrame\n",
      "\n",
      "See the caveats in the documentation: https://pandas.pydata.org/pandas-docs/stable/user_guide/indexing.html#returning-a-view-versus-a-copy\n",
      "  train_data_selected.fillna(train_data_selected.median(), inplace=True)\n"
     ]
    }
   ],
   "source": [
    "#remove and replace inifinite values\n",
    "train_data_selected.replace([np.inf, -np.inf], np.nan, inplace=True)\n",
    "train_data_selected.fillna(train_data_selected.median(), inplace=True)"
   ]
  },
  {
   "cell_type": "code",
   "execution_count": 8,
   "id": "01516996-1192-449d-957e-b17bb52a211e",
   "metadata": {},
   "outputs": [
    {
     "name": "stdout",
     "output_type": "stream",
     "text": [
      "Index(['SalePrice', 'TotalSF', 'OverallGrade', 'OverallQual',\n",
      "       'TotalFinishedSF', 'NeighborhoodMedianPrice', 'GrLivArea', 'ExterQual',\n",
      "       'KitchenQual', 'BsmtQual', 'GarageCars', 'TotalGarageSize',\n",
      "       'GarageArea', 'TotalBsmtSF', '1stFlrSF', 'OverallQualCond', 'FullBath',\n",
      "       'YearBuilt', 'TotRmsAbvGrd', 'YearRemodAdd', 'Foundation_PConc',\n",
      "       'MasVnrArea', 'GarageYrBlt', 'Fireplaces', 'HeatingQC', 'BathsPerBed',\n",
      "       'Neighborhood_NridgHt', 'BsmtFinSF1', 'SaleType_New',\n",
      "       'SaleCondition_Partial', 'MasVnrType_Stone', 'GarageType_Attchd',\n",
      "       'LotFrontage', 'OpenPorchSF', 'WoodDeckSF', 'Exterior2nd_VinylSd',\n",
      "       'Exterior1st_VinylSd', '2ndFlrSF', 'FireplaceQu', 'HalfBath',\n",
      "       'Neighborhood_NoRidge', 'LotArea', 'CentralAir_Y', 'GarageType_BuiltIn',\n",
      "       'Electrical_SBrkr', 'MSZoning_RL', 'HouseStyle_2Story', 'PavedDrive_Y',\n",
      "       'BsmtFullBath', 'RoofStyle_Hip', 'Neighborhood_StoneBr', 'BsmtUnfSF',\n",
      "       'MasVnrType_BrkFace', 'RoofStyle_Gable', 'SaleType_WD', 'LotShape_Reg',\n",
      "       'MSZoning_RM', 'Foundation_CBlock', 'GarageType_Detchd', 'RemodelAge',\n",
      "       'HouseAge'],\n",
      "      dtype='object')\n"
     ]
    }
   ],
   "source": [
    "#variance thresh\n",
    "#apply VarianceThreshold\n",
    "selector = VarianceThreshold(threshold=0.01)\n",
    "train_data_high_variance = selector.fit_transform(train_data_selected)\n",
    "\n",
    "#get features\n",
    "selected_features_after_variance = train_data_selected.columns[selector.get_support()]\n",
    "print(selected_features_after_variance)"
   ]
  },
  {
   "cell_type": "code",
   "execution_count": 9,
   "id": "dff1d2f5-09f0-4d3d-9e49-4726ade091ff",
   "metadata": {},
   "outputs": [
    {
     "name": "stdout",
     "output_type": "stream",
     "text": [
      "Explained variance ratio: [0.28059751 0.07805431 0.06580767 0.05070006 0.03550872 0.03170399\n",
      " 0.02989858 0.02710515 0.02636956 0.02452273 0.02158684 0.01945195\n",
      " 0.01814098 0.01764419 0.01718486 0.01567707 0.01513459 0.01458763\n",
      " 0.01387902 0.01311862]\n",
      "Components: [[ 0.21661645  0.18722769  0.21053279 ... -0.11330357 -0.16736361\n",
      "  -0.18377412]\n",
      " [ 0.103868    0.19463374 -0.00537047 ... -0.04322927  0.16016764\n",
      "   0.11792142]\n",
      " [ 0.05262113  0.1055743   0.04871527 ...  0.10773099  0.02772011\n",
      "   0.1510349 ]\n",
      " ...\n",
      " [ 0.03223052 -0.03599389  0.04752197 ... -0.06547584 -0.02822926\n",
      "  -0.02832683]\n",
      " [ 0.00528676  0.10349836 -0.05755942 ...  0.12321107  0.06616847\n",
      "  -0.10068214]\n",
      " [-0.00873534  0.01492544  0.01077659 ...  0.14012808 -0.04053034\n",
      "  -0.02394849]]\n"
     ]
    }
   ],
   "source": [
    "#further feature scaling pre-PCA\n",
    "scaler = StandardScaler()\n",
    "train_data_scaled = scaler.fit_transform(train_data_selected[selected_features_after_variance])\n",
    "\n",
    "#apply PCA\n",
    "pca = PCA(n_components=20)\n",
    "train_data_pca = pca.fit_transform(train_data_scaled)\n",
    "\n",
    "#explained variance for each PC\n",
    "print(f'Explained variance ratio: {pca.explained_variance_ratio_}')\n",
    "print(f'Components: {pca.components_}')"
   ]
  },
  {
   "cell_type": "markdown",
   "id": "a59a8270-b53e-4de9-a3da-befa106aa412",
   "metadata": {},
   "source": [
    "### Inspect Imbalanced Data"
   ]
  },
  {
   "cell_type": "code",
   "execution_count": 10,
   "id": "13de6a6d-54cd-4d62-9fe3-9a90eaa8adf6",
   "metadata": {},
   "outputs": [
    {
     "name": "stderr",
     "output_type": "stream",
     "text": [
      "C:\\Users\\aless\\AppData\\Local\\Programs\\Python\\Python312\\Lib\\site-packages\\seaborn\\_oldcore.py:1119: FutureWarning: use_inf_as_na option is deprecated and will be removed in a future version. Convert inf values to NaN before operating instead.\n",
      "  with pd.option_context('mode.use_inf_as_na', True):\n"
     ]
    },
    {
     "data": {
      "image/png": "[encoded data removed]",
      "text/plain": [
       "<Figure size 640x480 with 1 Axes>"
      ]
     },
     "metadata": {},
     "output_type": "display_data"
    }
   ],
   "source": [
    "sns.histplot(train_data['SalePrice'], kde=True)\n",
    "plt.title('Distribution of SalePrice')\n",
    "plt.show()"
   ]
  },
  {
   "cell_type": "code",
   "execution_count": 11,
   "id": "ce522906-ecab-43d4-bf14-2991126514ce",
   "metadata": {},
   "outputs": [],
   "source": [
    "#apply log transformation\n",
    "train_data['SalePriceLog'] = np.log1p(train_data['SalePrice'])"
   ]
  },
  {
   "cell_type": "markdown",
   "id": "4f06e143-0b23-4377-812d-1032c0081c9d",
   "metadata": {},
   "source": [
    "### Splitting the Data"
   ]
  },
  {
   "cell_type": "code",
   "execution_count": 12,
   "id": "40397757-8af5-4d07-a9d1-09ade7e9faf4",
   "metadata": {},
   "outputs": [],
   "source": [
    "X = train_data_pca\n",
    "y = train_data['SalePriceLog']\n",
    "X_train, X_test, y_train, y_test = train_test_split(X, y, test_size=0.2, random_state=42)"
   ]
  },
  {
   "cell_type": "code",
   "execution_count": 13,
   "id": "214eb3f5-2981-4088-b746-9178006197c6",
   "metadata": {},
   "outputs": [
    {
     "data": {
      "text/plain": [
       "((1162, 20), (291, 20))"
      ]
     },
     "execution_count": 13,
     "metadata": {},
     "output_type": "execute_result"
    }
   ],
   "source": [
    "X_train.shape, X_test.shape"
   ]
  },
  {
   "cell_type": "code",
   "execution_count": 14,
   "id": "1fea0e60-f187-4c43-8230-5ecd4167b82c",
   "metadata": {},
   "outputs": [
    {
     "data": {
      "text/plain": [
       "((1162,), (291,))"
      ]
     },
     "execution_count": 14,
     "metadata": {},
     "output_type": "execute_result"
    }
   ],
   "source": [
    "y_train.shape, y_test.shape"
   ]
  },
  {
   "cell_type": "markdown",
   "id": "95de701d-f6f0-42a3-a1fa-ab602205d995",
   "metadata": {},
   "source": [
    "### Preparing for Model Training"
   ]
  },
  {
   "cell_type": "code",
   "execution_count": 15,
   "id": "06e14a0d-34c6-47d7-92b6-91cf7e4af7b8",
   "metadata": {},
   "outputs": [
    {
     "name": "stdout",
     "output_type": "stream",
     "text": [
      "Linear Regression CV RMSE: 0.11413080926846102 +/- 0.012455710625624606\n"
     ]
    }
   ],
   "source": [
    "#linear regression\n",
    "#initialize model\n",
    "lr_model = LinearRegression()\n",
    "\n",
    "#cross-validation\n",
    "lr_scores = cross_val_score(lr_model, X_train, y_train, cv=5, scoring='neg_mean_squared_error')\n",
    "lr_rmse_scores = np.sqrt(-lr_scores)\n",
    "print(f\"Linear Regression CV RMSE: {lr_rmse_scores.mean()} +/- {lr_rmse_scores.std()}\")"
   ]
  },
  {
   "cell_type": "code",
   "execution_count": 16,
   "id": "a9d46a6a-1006-4385-955a-56efef3042ec",
   "metadata": {},
   "outputs": [
    {
     "name": "stdout",
     "output_type": "stream",
     "text": [
      "Ridge Regression CV RMSE: 0.11412723246484505 +/- 0.012458125393363703\n"
     ]
    }
   ],
   "source": [
    "#ridge regression\n",
    "#initialize model\n",
    "ridge_model = Ridge(alpha=1.0)\n",
    "\n",
    "#cross-validation\n",
    "ridge_scores = cross_val_score(ridge_model, X_train, y_train, cv=5, scoring='neg_mean_squared_error')\n",
    "ridge_rmse_scores = np.sqrt(-ridge_scores)\n",
    "print(f\"Ridge Regression CV RMSE: {ridge_rmse_scores.mean()} +/- {ridge_rmse_scores.std()}\")"
   ]
  },
  {
   "cell_type": "code",
   "execution_count": 17,
   "id": "7aa4c63f-5ba3-4b5f-8894-215b348a3129",
   "metadata": {},
   "outputs": [
    {
     "name": "stdout",
     "output_type": "stream",
     "text": [
      "Lasso Regression CV RMSE: 0.14152008302827115 +/- 0.016437968514261044\n"
     ]
    }
   ],
   "source": [
    "#lasso regression\n",
    "#initialize model\n",
    "lasso_model = Lasso(alpha=0.1)\n",
    "\n",
    "#cross-validation\n",
    "lasso_scores = cross_val_score(lasso_model, X_train, y_train, cv=5, scoring='neg_mean_squared_error')\n",
    "lasso_rmse_scores = np.sqrt(-lasso_scores)\n",
    "print(f\"Lasso Regression CV RMSE: {lasso_rmse_scores.mean()} +/- {lasso_rmse_scores.std()}\")"
   ]
  },
  {
   "cell_type": "code",
   "execution_count": 18,
   "id": "3394984f-185c-4e74-a4b4-324e882f1f75",
   "metadata": {},
   "outputs": [
    {
     "name": "stdout",
     "output_type": "stream",
     "text": [
      "Random Forest CV RMSE: 0.12475397888472321 +/- 0.012823441163942798\n"
     ]
    }
   ],
   "source": [
    "#random forest\n",
    "#initialize model\n",
    "rf_model = RandomForestRegressor(n_estimators=100, random_state=42)\n",
    "\n",
    "#cross-validation\n",
    "rf_scores = cross_val_score(rf_model, X_train, y_train, cv=5, scoring='neg_mean_squared_error')\n",
    "rf_rmse_scores = np.sqrt(-rf_scores)\n",
    "print(f\"Random Forest CV RMSE: {rf_rmse_scores.mean()} +/- {rf_rmse_scores.std()}\")"
   ]
  },
  {
   "cell_type": "code",
   "execution_count": 19,
   "id": "c89b397e-8ce4-4b46-b3ac-f251417d5ac4",
   "metadata": {},
   "outputs": [
    {
     "name": "stdout",
     "output_type": "stream",
     "text": [
      "XGBoost CV RMSE: 0.13136590226544348 +/- 0.012497631460164593\n"
     ]
    }
   ],
   "source": [
    "#gradient boosting\n",
    "#initialize model\n",
    "xgb_model = xgb.XGBRegressor(n_estimators=100, random_state=42)\n",
    "\n",
    "#cross-validation\n",
    "xgb_scores = cross_val_score(xgb_model, X_train, y_train, cv=5, scoring='neg_mean_squared_error')\n",
    "xgb_rmse_scores = np.sqrt(-xgb_scores)\n",
    "print(f\"XGBoost CV RMSE: {xgb_rmse_scores.mean()} +/- {xgb_rmse_scores.std()}\")"
   ]
  },
  {
   "cell_type": "code",
   "execution_count": 20,
   "id": "2ca77d7f-efc3-4ce2-bd77-579bbcc2624f",
   "metadata": {},
   "outputs": [
    {
     "name": "stdout",
     "output_type": "stream",
     "text": [
      "Best Ridge parameters: {'alpha': 100.0}\n",
      "Best Ridge CV RMSE: 0.11463226933697948\n"
     ]
    }
   ],
   "source": [
    "#hyperparameter tuning - Ridge\n",
    "#set up parameter grid\n",
    "param_grid = {'alpha': [0.1, 1.0, 10.0, 100.0]}\n",
    "\n",
    "#initialize model and GridSearchCV\n",
    "ridge_grid = GridSearchCV(Ridge(), param_grid, cv=5, scoring='neg_mean_squared_error')\n",
    "ridge_grid.fit(X_train, y_train)\n",
    "\n",
    "#best parameters and score\n",
    "print(f\"Best Ridge parameters: {ridge_grid.best_params_}\")\n",
    "print(f\"Best Ridge CV RMSE: {np.sqrt(-ridge_grid.best_score_)}\")"
   ]
  },
  {
   "cell_type": "code",
   "execution_count": 21,
   "id": "c3c18502-8c69-4063-b415-517f5e8cd0a8",
   "metadata": {},
   "outputs": [
    {
     "name": "stdout",
     "output_type": "stream",
     "text": [
      "Test RMSE: 18539.01255608193\n"
     ]
    }
   ],
   "source": [
    "#model training and eval\n",
    "best_ridge_model = ridge_grid.best_estimator_\n",
    "best_ridge_model.fit(X_train, y_train)\n",
    "\n",
    "#predict on test set\n",
    "y_pred_log = best_ridge_model.predict(X_test)\n",
    "y_pred = np.expm1(y_pred_log)  #iInverse log transform\n",
    "\n",
    "#evaluate the model\n",
    "test_rmse = np.sqrt(mean_squared_error(np.expm1(y_test), y_pred))\n",
    "print(f\"Test RMSE: {test_rmse}\")"
   ]
  },
  {
   "cell_type": "code",
   "execution_count": 22,
   "id": "3aa5cc2e-2ff2-4c8f-ac87-e348e6314e2f",
   "metadata": {},
   "outputs": [
    {
     "data": {
      "text/plain": [
       "['../models\\\\ridge_model.pkl']"
      ]
     },
     "execution_count": 22,
     "metadata": {},
     "output_type": "execute_result"
    }
   ],
   "source": [
    "#save model\n",
    "save_dir = '../models'\n",
    "#define filepath\n",
    "save_path = os.path.join(save_dir, 'ridge_model.pkl')\n",
    "\n",
    "#save the model\n",
    "joblib.dump(best_ridge_model, save_path)"
   ]
  }
 ],
 "metadata": {
  "kernelspec": {
   "display_name": "Python 3 (ipykernel)",
   "language": "python",
   "name": "python3"
  },
  "language_info": {
   "codemirror_mode": {
    "name": "ipython",
    "version": 3
   },
   "file_extension": ".py",
   "mimetype": "text/x-python",
   "name": "python",
   "nbconvert_exporter": "python",
   "pygments_lexer": "ipython3",
   "version": "3.12.1"
  }
 },
 "nbformat": 4,
 "nbformat_minor": 5
}
